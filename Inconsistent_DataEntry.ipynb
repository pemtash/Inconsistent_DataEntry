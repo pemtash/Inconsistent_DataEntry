{
 "cells": [
  {
   "cell_type": "markdown",
   "metadata": {},
   "source": [
    "# INCONSISTENT DATA ENTRY"
   ]
  },
  {
   "cell_type": "code",
   "execution_count": 1,
   "metadata": {
    "ExecuteTime": {
     "end_time": "2021-04-26T04:36:39.624268Z",
     "start_time": "2021-04-26T04:36:38.607223Z"
    }
   },
   "outputs": [],
   "source": [
    "# MODULES WE WILL USE\n",
    "import pandas as pd \n",
    "import numpy as np "
   ]
  },
  {
   "cell_type": "code",
   "execution_count": 5,
   "metadata": {
    "ExecuteTime": {
     "end_time": "2021-04-26T04:43:23.421998Z",
     "start_time": "2021-04-26T04:43:23.337050Z"
    }
   },
   "outputs": [
    {
     "name": "stderr",
     "output_type": "stream",
     "text": [
      "C:\\Users\\user\\anaconda3\\lib\\site-packages\\fuzzywuzzy\\fuzz.py:11: UserWarning: Using slow pure-python SequenceMatcher. Install python-Levenshtein to remove this warning\n",
      "  warnings.warn('Using slow pure-python SequenceMatcher. Install python-Levenshtein to remove this warning')\n"
     ]
    }
   ],
   "source": [
    "# HELPFUL MODULES\n",
    "import fuzzywuzzy\n",
    "from fuzzywuzzy import process\n",
    "import chardet"
   ]
  },
  {
   "cell_type": "code",
   "execution_count": 6,
   "metadata": {
    "ExecuteTime": {
     "end_time": "2021-04-26T04:44:19.649989Z",
     "start_time": "2021-04-26T04:44:19.644994Z"
    }
   },
   "outputs": [],
   "source": [
    "# we need to pip3 install fuzzywuzzy in anaconda cm !!"
   ]
  },
  {
   "cell_type": "code",
   "execution_count": 8,
   "metadata": {
    "ExecuteTime": {
     "end_time": "2021-04-26T04:56:35.525519Z",
     "start_time": "2021-04-26T04:56:33.410278Z"
    }
   },
   "outputs": [
    {
     "data": {
      "text/html": [
       "<div>\n",
       "<style scoped>\n",
       "    .dataframe tbody tr th:only-of-type {\n",
       "        vertical-align: middle;\n",
       "    }\n",
       "\n",
       "    .dataframe tbody tr th {\n",
       "        vertical-align: top;\n",
       "    }\n",
       "\n",
       "    .dataframe thead th {\n",
       "        text-align: right;\n",
       "    }\n",
       "</style>\n",
       "<table border=\"1\" class=\"dataframe\">\n",
       "  <thead>\n",
       "    <tr style=\"text-align: right;\">\n",
       "      <th></th>\n",
       "      <th>ID</th>\n",
       "      <th>name</th>\n",
       "      <th>category</th>\n",
       "      <th>main_category</th>\n",
       "      <th>currency</th>\n",
       "      <th>deadline</th>\n",
       "      <th>goal</th>\n",
       "      <th>launched</th>\n",
       "      <th>pledged</th>\n",
       "      <th>state</th>\n",
       "      <th>backers</th>\n",
       "      <th>country</th>\n",
       "      <th>usd pledged</th>\n",
       "      <th>usd_pledged_real</th>\n",
       "      <th>usd_goal_real</th>\n",
       "    </tr>\n",
       "  </thead>\n",
       "  <tbody>\n",
       "    <tr>\n",
       "      <th>0</th>\n",
       "      <td>1000002330</td>\n",
       "      <td>The Songs of Adelaide &amp; Abullah</td>\n",
       "      <td>Poetry</td>\n",
       "      <td>Publishing</td>\n",
       "      <td>GBP</td>\n",
       "      <td>2015-10-09</td>\n",
       "      <td>1000.0</td>\n",
       "      <td>2015-08-11 12:12:28</td>\n",
       "      <td>0.0</td>\n",
       "      <td>failed</td>\n",
       "      <td>0</td>\n",
       "      <td>GB</td>\n",
       "      <td>0.0</td>\n",
       "      <td>0.0</td>\n",
       "      <td>1533.95</td>\n",
       "    </tr>\n",
       "    <tr>\n",
       "      <th>1</th>\n",
       "      <td>1000003930</td>\n",
       "      <td>Greeting From Earth: ZGAC Arts Capsule For ET</td>\n",
       "      <td>Narrative Film</td>\n",
       "      <td>Film &amp; Video</td>\n",
       "      <td>USD</td>\n",
       "      <td>2017-11-01</td>\n",
       "      <td>30000.0</td>\n",
       "      <td>2017-09-02 04:43:57</td>\n",
       "      <td>2421.0</td>\n",
       "      <td>failed</td>\n",
       "      <td>15</td>\n",
       "      <td>US</td>\n",
       "      <td>100.0</td>\n",
       "      <td>2421.0</td>\n",
       "      <td>30000.00</td>\n",
       "    </tr>\n",
       "    <tr>\n",
       "      <th>2</th>\n",
       "      <td>1000004038</td>\n",
       "      <td>Where is Hank?</td>\n",
       "      <td>Narrative Film</td>\n",
       "      <td>Film &amp; Video</td>\n",
       "      <td>USD</td>\n",
       "      <td>2013-02-26</td>\n",
       "      <td>45000.0</td>\n",
       "      <td>2013-01-12 00:20:50</td>\n",
       "      <td>220.0</td>\n",
       "      <td>failed</td>\n",
       "      <td>3</td>\n",
       "      <td>US</td>\n",
       "      <td>220.0</td>\n",
       "      <td>220.0</td>\n",
       "      <td>45000.00</td>\n",
       "    </tr>\n",
       "    <tr>\n",
       "      <th>3</th>\n",
       "      <td>1000007540</td>\n",
       "      <td>ToshiCapital Rekordz Needs Help to Complete Album</td>\n",
       "      <td>Music</td>\n",
       "      <td>Music</td>\n",
       "      <td>USD</td>\n",
       "      <td>2012-04-16</td>\n",
       "      <td>5000.0</td>\n",
       "      <td>2012-03-17 03:24:11</td>\n",
       "      <td>1.0</td>\n",
       "      <td>failed</td>\n",
       "      <td>1</td>\n",
       "      <td>US</td>\n",
       "      <td>1.0</td>\n",
       "      <td>1.0</td>\n",
       "      <td>5000.00</td>\n",
       "    </tr>\n",
       "    <tr>\n",
       "      <th>4</th>\n",
       "      <td>1000011046</td>\n",
       "      <td>Community Film Project: The Art of Neighborhoo...</td>\n",
       "      <td>Film &amp; Video</td>\n",
       "      <td>Film &amp; Video</td>\n",
       "      <td>USD</td>\n",
       "      <td>2015-08-29</td>\n",
       "      <td>19500.0</td>\n",
       "      <td>2015-07-04 08:35:03</td>\n",
       "      <td>1283.0</td>\n",
       "      <td>canceled</td>\n",
       "      <td>14</td>\n",
       "      <td>US</td>\n",
       "      <td>1283.0</td>\n",
       "      <td>1283.0</td>\n",
       "      <td>19500.00</td>\n",
       "    </tr>\n",
       "  </tbody>\n",
       "</table>\n",
       "</div>"
      ],
      "text/plain": [
       "           ID                                               name  \\\n",
       "0  1000002330                    The Songs of Adelaide & Abullah   \n",
       "1  1000003930      Greeting From Earth: ZGAC Arts Capsule For ET   \n",
       "2  1000004038                                     Where is Hank?   \n",
       "3  1000007540  ToshiCapital Rekordz Needs Help to Complete Album   \n",
       "4  1000011046  Community Film Project: The Art of Neighborhoo...   \n",
       "\n",
       "         category main_category currency    deadline     goal  \\\n",
       "0          Poetry    Publishing      GBP  2015-10-09   1000.0   \n",
       "1  Narrative Film  Film & Video      USD  2017-11-01  30000.0   \n",
       "2  Narrative Film  Film & Video      USD  2013-02-26  45000.0   \n",
       "3           Music         Music      USD  2012-04-16   5000.0   \n",
       "4    Film & Video  Film & Video      USD  2015-08-29  19500.0   \n",
       "\n",
       "              launched  pledged     state  backers country  usd pledged  \\\n",
       "0  2015-08-11 12:12:28      0.0    failed        0      GB          0.0   \n",
       "1  2017-09-02 04:43:57   2421.0    failed       15      US        100.0   \n",
       "2  2013-01-12 00:20:50    220.0    failed        3      US        220.0   \n",
       "3  2012-03-17 03:24:11      1.0    failed        1      US          1.0   \n",
       "4  2015-07-04 08:35:03   1283.0  canceled       14      US       1283.0   \n",
       "\n",
       "   usd_pledged_real  usd_goal_real  \n",
       "0               0.0        1533.95  \n",
       "1            2421.0       30000.00  \n",
       "2             220.0       45000.00  \n",
       "3               1.0        5000.00  \n",
       "4            1283.0       19500.00  "
      ]
     },
     "execution_count": 8,
     "metadata": {},
     "output_type": "execute_result"
    }
   ],
   "source": [
    "# read in all our data\n",
    "ks = pd.read_csv('ks-projects-201801.csv')\n",
    "ks.head()"
   ]
  },
  {
   "cell_type": "code",
   "execution_count": 9,
   "metadata": {
    "ExecuteTime": {
     "end_time": "2021-04-26T04:57:17.578255Z",
     "start_time": "2021-04-26T04:57:17.560267Z"
    }
   },
   "outputs": [],
   "source": [
    "# set seed for reproducibility\n",
    "np.random.seed(0)"
   ]
  },
  {
   "cell_type": "code",
   "execution_count": 10,
   "metadata": {
    "ExecuteTime": {
     "end_time": "2021-04-26T04:59:28.823069Z",
     "start_time": "2021-04-26T04:59:28.736123Z"
    }
   },
   "outputs": [],
   "source": [
    "# clean up the category column to make sure there is not data entry inconsistencies\n",
    "# get all the values in category coloumn \n",
    "category = ks['category'].unique()"
   ]
  },
  {
   "cell_type": "code",
   "execution_count": 11,
   "metadata": {
    "ExecuteTime": {
     "end_time": "2021-04-26T05:00:12.901071Z",
     "start_time": "2021-04-26T05:00:12.878086Z"
    }
   },
   "outputs": [
    {
     "data": {
      "text/plain": [
       "array(['3D Printing', 'Academic', 'Accessories', 'Action', 'Animals',\n",
       "       'Animation', 'Anthologies', 'Apparel', 'Apps', 'Architecture',\n",
       "       'Art', 'Art Books', 'Audio', 'Bacon', 'Blues', 'Calendars',\n",
       "       'Camera Equipment', 'Candles', 'Ceramics', \"Children's Books\",\n",
       "       'Childrenswear', 'Chiptune', 'Civic Design', 'Classical Music',\n",
       "       'Comedy', 'Comic Books', 'Comics', 'Community Gardens',\n",
       "       'Conceptual Art', 'Cookbooks', 'Country & Folk', 'Couture',\n",
       "       'Crafts', 'Crochet', 'DIY', 'DIY Electronics', 'Dance', 'Design',\n",
       "       'Digital Art', 'Documentary', 'Drama', 'Drinks',\n",
       "       'Electronic Music', 'Embroidery', 'Events', 'Experimental',\n",
       "       'Fabrication Tools', 'Faith', 'Family', 'Fantasy',\n",
       "       \"Farmer's Markets\", 'Farms', 'Fashion', 'Festivals', 'Fiction',\n",
       "       'Film & Video', 'Fine Art', 'Flight', 'Food', 'Food Trucks',\n",
       "       'Footwear', 'Gadgets', 'Games', 'Gaming Hardware', 'Glass',\n",
       "       'Graphic Design', 'Graphic Novels', 'Hardware', 'Hip-Hop',\n",
       "       'Horror', 'Illustration', 'Immersive', 'Indie Rock',\n",
       "       'Installations', 'Interactive Design', 'Jazz', 'Jewelry',\n",
       "       'Journalism', 'Kids', 'Knitting', 'Latin', 'Letterpress',\n",
       "       'Literary Journals', 'Literary Spaces', 'Live Games',\n",
       "       'Makerspaces', 'Metal', 'Mixed Media', 'Mobile Games',\n",
       "       'Movie Theaters', 'Music', 'Music Videos', 'Musical',\n",
       "       'Narrative Film', 'Nature', 'Nonfiction', 'Painting', 'People',\n",
       "       'Performance Art', 'Performances', 'Periodicals', 'Pet Fashion',\n",
       "       'Photo', 'Photobooks', 'Photography', 'Places', 'Playing Cards',\n",
       "       'Plays', 'Poetry', 'Pop', 'Pottery', 'Print', 'Printing',\n",
       "       'Product Design', 'Public Art', 'Publishing', 'Punk', 'Puzzles',\n",
       "       'Quilts', 'R&B', 'Radio & Podcasts', 'Ready-to-wear',\n",
       "       'Residencies', 'Restaurants', 'Robots', 'Rock', 'Romance',\n",
       "       'Science Fiction', 'Sculpture', 'Shorts', 'Small Batch',\n",
       "       'Software', 'Sound', 'Space Exploration', 'Spaces', 'Stationery',\n",
       "       'Tabletop Games', 'Taxidermy', 'Technology', 'Television',\n",
       "       'Textiles', 'Theater', 'Thrillers', 'Translations', 'Typography',\n",
       "       'Vegan', 'Video', 'Video Art', 'Video Games', 'Wearables',\n",
       "       'Weaving', 'Web', 'Webcomics', 'Webseries', 'Woodworking',\n",
       "       'Workshops', 'World Music', 'Young Adult', 'Zines'], dtype=object)"
      ]
     },
     "execution_count": 11,
     "metadata": {},
     "output_type": "execute_result"
    }
   ],
   "source": [
    "# sort them alphabetically and then take a closer look\n",
    "category.sort()\n",
    "category"
   ]
  },
  {
   "cell_type": "code",
   "execution_count": 12,
   "metadata": {
    "ExecuteTime": {
     "end_time": "2021-04-26T05:01:27.473257Z",
     "start_time": "2021-04-26T05:01:27.452271Z"
    }
   },
   "outputs": [
    {
     "data": {
      "text/plain": [
       "\"The first thing I'm going to do is make everything lower case (I can change it back at the end if I like) and remove any white spaces at the beginning and end of cells. Inconsistencies in capitalizations and trailing white spaces are very common in text data and you can fix a good 80% of your text data entry inconsistencies by doing this.\""
      ]
     },
     "execution_count": 12,
     "metadata": {},
     "output_type": "execute_result"
    }
   ],
   "source": [
    "'''The first thing I'm going to do is make everything lower case (I can change it back at the end if I like) and remove any white spaces at the beginning and end of cells. Inconsistencies in capitalizations and trailing white spaces are very common in text data and you can fix a good 80% of your text data entry inconsistencies by doing this.'''"
   ]
  },
  {
   "cell_type": "code",
   "execution_count": 13,
   "metadata": {
    "ExecuteTime": {
     "end_time": "2021-04-26T05:03:19.005414Z",
     "start_time": "2021-04-26T05:03:18.396788Z"
    }
   },
   "outputs": [
    {
     "data": {
      "text/html": [
       "<div>\n",
       "<style scoped>\n",
       "    .dataframe tbody tr th:only-of-type {\n",
       "        vertical-align: middle;\n",
       "    }\n",
       "\n",
       "    .dataframe tbody tr th {\n",
       "        vertical-align: top;\n",
       "    }\n",
       "\n",
       "    .dataframe thead th {\n",
       "        text-align: right;\n",
       "    }\n",
       "</style>\n",
       "<table border=\"1\" class=\"dataframe\">\n",
       "  <thead>\n",
       "    <tr style=\"text-align: right;\">\n",
       "      <th></th>\n",
       "      <th>ID</th>\n",
       "      <th>name</th>\n",
       "      <th>category</th>\n",
       "      <th>main_category</th>\n",
       "      <th>currency</th>\n",
       "      <th>deadline</th>\n",
       "      <th>goal</th>\n",
       "      <th>launched</th>\n",
       "      <th>pledged</th>\n",
       "      <th>state</th>\n",
       "      <th>backers</th>\n",
       "      <th>country</th>\n",
       "      <th>usd pledged</th>\n",
       "      <th>usd_pledged_real</th>\n",
       "      <th>usd_goal_real</th>\n",
       "    </tr>\n",
       "  </thead>\n",
       "  <tbody>\n",
       "    <tr>\n",
       "      <th>0</th>\n",
       "      <td>1000002330</td>\n",
       "      <td>The Songs of Adelaide &amp; Abullah</td>\n",
       "      <td>poetry</td>\n",
       "      <td>Publishing</td>\n",
       "      <td>GBP</td>\n",
       "      <td>2015-10-09</td>\n",
       "      <td>1000.0</td>\n",
       "      <td>2015-08-11 12:12:28</td>\n",
       "      <td>0.0</td>\n",
       "      <td>failed</td>\n",
       "      <td>0</td>\n",
       "      <td>GB</td>\n",
       "      <td>0.0</td>\n",
       "      <td>0.0</td>\n",
       "      <td>1533.95</td>\n",
       "    </tr>\n",
       "    <tr>\n",
       "      <th>1</th>\n",
       "      <td>1000003930</td>\n",
       "      <td>Greeting From Earth: ZGAC Arts Capsule For ET</td>\n",
       "      <td>narrative film</td>\n",
       "      <td>Film &amp; Video</td>\n",
       "      <td>USD</td>\n",
       "      <td>2017-11-01</td>\n",
       "      <td>30000.0</td>\n",
       "      <td>2017-09-02 04:43:57</td>\n",
       "      <td>2421.0</td>\n",
       "      <td>failed</td>\n",
       "      <td>15</td>\n",
       "      <td>US</td>\n",
       "      <td>100.0</td>\n",
       "      <td>2421.0</td>\n",
       "      <td>30000.00</td>\n",
       "    </tr>\n",
       "    <tr>\n",
       "      <th>2</th>\n",
       "      <td>1000004038</td>\n",
       "      <td>Where is Hank?</td>\n",
       "      <td>narrative film</td>\n",
       "      <td>Film &amp; Video</td>\n",
       "      <td>USD</td>\n",
       "      <td>2013-02-26</td>\n",
       "      <td>45000.0</td>\n",
       "      <td>2013-01-12 00:20:50</td>\n",
       "      <td>220.0</td>\n",
       "      <td>failed</td>\n",
       "      <td>3</td>\n",
       "      <td>US</td>\n",
       "      <td>220.0</td>\n",
       "      <td>220.0</td>\n",
       "      <td>45000.00</td>\n",
       "    </tr>\n",
       "    <tr>\n",
       "      <th>3</th>\n",
       "      <td>1000007540</td>\n",
       "      <td>ToshiCapital Rekordz Needs Help to Complete Album</td>\n",
       "      <td>music</td>\n",
       "      <td>Music</td>\n",
       "      <td>USD</td>\n",
       "      <td>2012-04-16</td>\n",
       "      <td>5000.0</td>\n",
       "      <td>2012-03-17 03:24:11</td>\n",
       "      <td>1.0</td>\n",
       "      <td>failed</td>\n",
       "      <td>1</td>\n",
       "      <td>US</td>\n",
       "      <td>1.0</td>\n",
       "      <td>1.0</td>\n",
       "      <td>5000.00</td>\n",
       "    </tr>\n",
       "    <tr>\n",
       "      <th>4</th>\n",
       "      <td>1000011046</td>\n",
       "      <td>Community Film Project: The Art of Neighborhoo...</td>\n",
       "      <td>film &amp; video</td>\n",
       "      <td>Film &amp; Video</td>\n",
       "      <td>USD</td>\n",
       "      <td>2015-08-29</td>\n",
       "      <td>19500.0</td>\n",
       "      <td>2015-07-04 08:35:03</td>\n",
       "      <td>1283.0</td>\n",
       "      <td>canceled</td>\n",
       "      <td>14</td>\n",
       "      <td>US</td>\n",
       "      <td>1283.0</td>\n",
       "      <td>1283.0</td>\n",
       "      <td>19500.00</td>\n",
       "    </tr>\n",
       "  </tbody>\n",
       "</table>\n",
       "</div>"
      ],
      "text/plain": [
       "           ID                                               name  \\\n",
       "0  1000002330                    The Songs of Adelaide & Abullah   \n",
       "1  1000003930      Greeting From Earth: ZGAC Arts Capsule For ET   \n",
       "2  1000004038                                     Where is Hank?   \n",
       "3  1000007540  ToshiCapital Rekordz Needs Help to Complete Album   \n",
       "4  1000011046  Community Film Project: The Art of Neighborhoo...   \n",
       "\n",
       "         category main_category currency    deadline     goal  \\\n",
       "0          poetry    Publishing      GBP  2015-10-09   1000.0   \n",
       "1  narrative film  Film & Video      USD  2017-11-01  30000.0   \n",
       "2  narrative film  Film & Video      USD  2013-02-26  45000.0   \n",
       "3           music         Music      USD  2012-04-16   5000.0   \n",
       "4    film & video  Film & Video      USD  2015-08-29  19500.0   \n",
       "\n",
       "              launched  pledged     state  backers country  usd pledged  \\\n",
       "0  2015-08-11 12:12:28      0.0    failed        0      GB          0.0   \n",
       "1  2017-09-02 04:43:57   2421.0    failed       15      US        100.0   \n",
       "2  2013-01-12 00:20:50    220.0    failed        3      US        220.0   \n",
       "3  2012-03-17 03:24:11      1.0    failed        1      US          1.0   \n",
       "4  2015-07-04 08:35:03   1283.0  canceled       14      US       1283.0   \n",
       "\n",
       "   usd_pledged_real  usd_goal_real  \n",
       "0               0.0        1533.95  \n",
       "1            2421.0       30000.00  \n",
       "2             220.0       45000.00  \n",
       "3               1.0        5000.00  \n",
       "4            1283.0       19500.00  "
      ]
     },
     "execution_count": 13,
     "metadata": {},
     "output_type": "execute_result"
    }
   ],
   "source": [
    "# convert to lower case\n",
    "ks['category'] = ks['category'].str.lower()\n",
    "\n",
    "# remove the trailing white spaces\n",
    "ks['category'] = ks['category'].str.strip()\n",
    "ks.head()"
   ]
  },
  {
   "cell_type": "code",
   "execution_count": 14,
   "metadata": {
    "ExecuteTime": {
     "end_time": "2021-04-26T05:04:10.261361Z",
     "start_time": "2021-04-26T05:04:10.252370Z"
    }
   },
   "outputs": [],
   "source": [
    "# use fuzzy matching to correct inconsistent data entry"
   ]
  },
  {
   "cell_type": "code",
   "execution_count": 15,
   "metadata": {
    "ExecuteTime": {
     "end_time": "2021-04-26T05:05:57.750599Z",
     "start_time": "2021-04-26T05:05:57.684641Z"
    }
   },
   "outputs": [
    {
     "data": {
      "text/plain": [
       "array(['3d printing', 'academic', 'accessories', 'action', 'animals',\n",
       "       'animation', 'anthologies', 'apparel', 'apps', 'architecture',\n",
       "       'art', 'art books', 'audio', 'bacon', 'blues', 'calendars',\n",
       "       'camera equipment', 'candles', 'ceramics', \"children's books\",\n",
       "       'childrenswear', 'chiptune', 'civic design', 'classical music',\n",
       "       'comedy', 'comic books', 'comics', 'community gardens',\n",
       "       'conceptual art', 'cookbooks', 'country & folk', 'couture',\n",
       "       'crafts', 'crochet', 'dance', 'design', 'digital art', 'diy',\n",
       "       'diy electronics', 'documentary', 'drama', 'drinks',\n",
       "       'electronic music', 'embroidery', 'events', 'experimental',\n",
       "       'fabrication tools', 'faith', 'family', 'fantasy',\n",
       "       \"farmer's markets\", 'farms', 'fashion', 'festivals', 'fiction',\n",
       "       'film & video', 'fine art', 'flight', 'food', 'food trucks',\n",
       "       'footwear', 'gadgets', 'games', 'gaming hardware', 'glass',\n",
       "       'graphic design', 'graphic novels', 'hardware', 'hip-hop',\n",
       "       'horror', 'illustration', 'immersive', 'indie rock',\n",
       "       'installations', 'interactive design', 'jazz', 'jewelry',\n",
       "       'journalism', 'kids', 'knitting', 'latin', 'letterpress',\n",
       "       'literary journals', 'literary spaces', 'live games',\n",
       "       'makerspaces', 'metal', 'mixed media', 'mobile games',\n",
       "       'movie theaters', 'music', 'music videos', 'musical',\n",
       "       'narrative film', 'nature', 'nonfiction', 'painting', 'people',\n",
       "       'performance art', 'performances', 'periodicals', 'pet fashion',\n",
       "       'photo', 'photobooks', 'photography', 'places', 'playing cards',\n",
       "       'plays', 'poetry', 'pop', 'pottery', 'print', 'printing',\n",
       "       'product design', 'public art', 'publishing', 'punk', 'puzzles',\n",
       "       'quilts', 'r&b', 'radio & podcasts', 'ready-to-wear',\n",
       "       'residencies', 'restaurants', 'robots', 'rock', 'romance',\n",
       "       'science fiction', 'sculpture', 'shorts', 'small batch',\n",
       "       'software', 'sound', 'space exploration', 'spaces', 'stationery',\n",
       "       'tabletop games', 'taxidermy', 'technology', 'television',\n",
       "       'textiles', 'theater', 'thrillers', 'translations', 'typography',\n",
       "       'vegan', 'video', 'video art', 'video games', 'wearables',\n",
       "       'weaving', 'web', 'webcomics', 'webseries', 'woodworking',\n",
       "       'workshops', 'world music', 'young adult', 'zines'], dtype=object)"
      ]
     },
     "execution_count": 15,
     "metadata": {},
     "output_type": "execute_result"
    }
   ],
   "source": [
    "# get all the unique values in the category column\n",
    "categories = ks['category'].unique()\n",
    "\n",
    "# sort them alphabetically and than take a closer look\n",
    "categories.sort()\n",
    "categories"
   ]
  },
  {
   "cell_type": "code",
   "execution_count": 16,
   "metadata": {
    "ExecuteTime": {
     "end_time": "2021-04-26T08:54:38.886881Z",
     "start_time": "2021-04-26T08:54:38.875891Z"
    }
   },
   "outputs": [],
   "source": [
    "# We're going to use the fuzzywuzzy package to help identify which strings are closest to each other"
   ]
  },
  {
   "cell_type": "markdown",
   "metadata": {},
   "source": [
    " Fuzzy matching: The process of automatically finding text strings that are very similar to the target string. In general, a string is considered \"closer\" to another one the fewer characters you'd need to change if you were transforming one string into another"
   ]
  },
  {
   "cell_type": "code",
   "execution_count": 17,
   "metadata": {
    "ExecuteTime": {
     "end_time": "2021-04-26T08:56:03.871210Z",
     "start_time": "2021-04-26T08:56:03.854221Z"
    }
   },
   "outputs": [],
   "source": [
    "#Fuzzywuzzy returns a ratio given two strings. The closer the ratio is to 100"
   ]
  },
  {
   "cell_type": "code",
   "execution_count": 20,
   "metadata": {
    "ExecuteTime": {
     "end_time": "2021-04-26T08:59:34.850150Z",
     "start_time": "2021-04-26T08:59:34.814173Z"
    }
   },
   "outputs": [
    {
     "data": {
      "text/plain": [
       "[('games', 100),\n",
       " ('gadgets', 67),\n",
       " ('live games', 67),\n",
       " ('video games', 62),\n",
       " ('farms', 60),\n",
       " ('glass', 60),\n",
       " ('mobile games', 59),\n",
       " ('places', 55),\n",
       " ('spaces', 55),\n",
       " ('tabletop games', 53)]"
      ]
     },
     "execution_count": 20,
     "metadata": {},
     "output_type": "execute_result"
    }
   ],
   "source": [
    "# get the top 10 closest matches to 'games'\n",
    "matches = fuzzywuzzy.process.extract('games', categories, limit=10, scorer=fuzzywuzzy.fuzz.token_sort_ratio)\n",
    "matches"
   ]
  },
  {
   "cell_type": "code",
   "execution_count": 27,
   "metadata": {
    "ExecuteTime": {
     "end_time": "2021-04-26T10:37:37.543876Z",
     "start_time": "2021-04-26T10:37:37.516896Z"
    }
   },
   "outputs": [
    {
     "name": "stdout",
     "output_type": "stream",
     "text": [
      "all done!\n"
     ]
    }
   ],
   "source": [
    "# function to replace rows in the provided column of the provided data frame\n",
    "# that match the provided string above the provided ratio with the provided string\n",
    "def replace_matches_in_column(df, column, string_to_match, min_ratio = 67):\n",
    "    # get a list of unique strings\n",
    "    strings = df[column].unique()\n",
    "    \n",
    "    # get the top 10 closest matches to our input string\n",
    "    matches = fuzzywuzzy.process.extract(string_to_match, strings, limit=10, scorer= fuzzywuzzy.fuzz.token_sort_ratio)\n",
    "    \n",
    "    # only get matches with a ratio > 90\n",
    "    close_matches = [matches[0] for matches in matches if matches[1] >= min_ratio]\n",
    "    \n",
    "    # get the rows of all the close matches in our dataframe\n",
    "    rows_with_matches = df[column].isin(close_matches)\n",
    "    \n",
    "    # replace all rows with close mathces with the input matches\n",
    "    \n",
    "    df.loc[rows_with_matches, column] = string_to_match\n",
    "\n",
    "#let us know the function's done\n",
    "print(\"all done!\")"
   ]
  },
  {
   "cell_type": "code",
   "execution_count": 29,
   "metadata": {
    "ExecuteTime": {
     "end_time": "2021-04-26T10:37:53.465965Z",
     "start_time": "2021-04-26T10:37:53.357281Z"
    }
   },
   "outputs": [],
   "source": [
    "# use the function we just wrote to replace close matches to 'games' with 'games'\n",
    "replace_matches_in_column(df=ks, column='category', string_to_match= 'games')"
   ]
  },
  {
   "cell_type": "markdown",
   "metadata": {},
   "source": [
    "and now let's check the unique values in our 'category' column  again and make sure \n",
    "we've tidied up 'games ' correctly"
   ]
  },
  {
   "cell_type": "code",
   "execution_count": 30,
   "metadata": {
    "ExecuteTime": {
     "end_time": "2021-04-26T10:44:04.877889Z",
     "start_time": "2021-04-26T10:44:04.811931Z"
    }
   },
   "outputs": [
    {
     "data": {
      "text/plain": [
       "array(['3d printing', 'academic', 'accessories', 'action', 'animals',\n",
       "       'animation', 'anthologies', 'apparel', 'apps', 'architecture',\n",
       "       'art', 'art books', 'audio', 'bacon', 'blues', 'calendars',\n",
       "       'camera equipment', 'candles', 'ceramics', \"children's books\",\n",
       "       'childrenswear', 'chiptune', 'civic design', 'classical music',\n",
       "       'comedy', 'comic books', 'comics', 'community gardens',\n",
       "       'conceptual art', 'cookbooks', 'country & folk', 'couture',\n",
       "       'crafts', 'crochet', 'dance', 'design', 'digital art', 'diy',\n",
       "       'diy electronics', 'documentary', 'drama', 'drinks',\n",
       "       'electronic music', 'embroidery', 'events', 'experimental',\n",
       "       'fabrication tools', 'faith', 'family', 'fantasy',\n",
       "       \"farmer's markets\", 'farms', 'fashion', 'festivals', 'fiction',\n",
       "       'film & video', 'fine art', 'flight', 'food', 'food trucks',\n",
       "       'footwear', 'gadgets', 'games', 'gaming hardware', 'glass',\n",
       "       'graphic design', 'graphic novels', 'hardware', 'hip-hop',\n",
       "       'horror', 'illustration', 'immersive', 'indie rock',\n",
       "       'installations', 'interactive design', 'jazz', 'jewelry',\n",
       "       'journalism', 'kids', 'knitting', 'latin', 'letterpress',\n",
       "       'literary journals', 'literary spaces', 'live games',\n",
       "       'makerspaces', 'metal', 'mixed media', 'mobile games',\n",
       "       'movie theaters', 'music', 'music videos', 'musical',\n",
       "       'narrative film', 'nature', 'nonfiction', 'painting', 'people',\n",
       "       'performance art', 'performances', 'periodicals', 'pet fashion',\n",
       "       'photo', 'photobooks', 'photography', 'places', 'playing cards',\n",
       "       'plays', 'poetry', 'pop', 'pottery', 'print', 'printing',\n",
       "       'product design', 'public art', 'publishing', 'punk', 'puzzles',\n",
       "       'quilts', 'r&b', 'radio & podcasts', 'ready-to-wear',\n",
       "       'residencies', 'restaurants', 'robots', 'rock', 'romance',\n",
       "       'science fiction', 'sculpture', 'shorts', 'small batch',\n",
       "       'software', 'sound', 'space exploration', 'spaces', 'stationery',\n",
       "       'tabletop games', 'taxidermy', 'technology', 'television',\n",
       "       'textiles', 'theater', 'thrillers', 'translations', 'typography',\n",
       "       'vegan', 'video', 'video art', 'video games', 'wearables',\n",
       "       'weaving', 'web', 'webcomics', 'webseries', 'woodworking',\n",
       "       'workshops', 'world music', 'young adult', 'zines'], dtype=object)"
      ]
     },
     "execution_count": 30,
     "metadata": {},
     "output_type": "execute_result"
    }
   ],
   "source": [
    "# get all the values in the 'category' column\n",
    "categoriese = ks['category'].unique()\n",
    "\n",
    "# sort them alphabtically and then take a closer look \n",
    "categories.sort()\n",
    "categories"
   ]
  },
  {
   "cell_type": "code",
   "execution_count": 35,
   "metadata": {
    "ExecuteTime": {
     "end_time": "2021-04-26T10:49:35.939867Z",
     "start_time": "2021-04-26T10:49:35.926875Z"
    }
   },
   "outputs": [
    {
     "data": {
      "text/plain": [
       "[('games', 100),\n",
       " ('gadgets', 67),\n",
       " ('live games', 67),\n",
       " ('video games', 62),\n",
       " ('farms', 60),\n",
       " ('glass', 60),\n",
       " ('mobile games', 59),\n",
       " ('places', 55),\n",
       " ('spaces', 55),\n",
       " ('tabletop games', 53)]"
      ]
     },
     "execution_count": 35,
     "metadata": {},
     "output_type": "execute_result"
    }
   ],
   "source": [
    "matches"
   ]
  },
  {
   "cell_type": "code",
   "execution_count": 37,
   "metadata": {
    "ExecuteTime": {
     "end_time": "2021-04-26T10:59:40.830793Z",
     "start_time": "2021-04-26T10:59:40.793818Z"
    }
   },
   "outputs": [
    {
     "ename": "NameError",
     "evalue": "name 'close_matches' is not defined",
     "output_type": "error",
     "traceback": [
      "\u001b[1;31m---------------------------------------------------------------------------\u001b[0m",
      "\u001b[1;31mNameError\u001b[0m                                 Traceback (most recent call last)",
      "\u001b[1;32m<ipython-input-37-b624fcbba38e>\u001b[0m in \u001b[0;36m<module>\u001b[1;34m\u001b[0m\n\u001b[1;32m----> 1\u001b[1;33m \u001b[0mreplace_matches_in_column\u001b[0m\u001b[1;33m(\u001b[0m\u001b[0mclose_matches\u001b[0m\u001b[1;33m(\u001b[0m\u001b[1;33m)\u001b[0m\u001b[1;33m)\u001b[0m\u001b[1;33m\u001b[0m\u001b[1;33m\u001b[0m\u001b[0m\n\u001b[0m",
      "\u001b[1;31mNameError\u001b[0m: name 'close_matches' is not defined"
     ]
    }
   ],
   "source": []
  },
  {
   "cell_type": "code",
   "execution_count": null,
   "metadata": {},
   "outputs": [],
   "source": []
  },
  {
   "cell_type": "code",
   "execution_count": null,
   "metadata": {},
   "outputs": [],
   "source": []
  },
  {
   "cell_type": "code",
   "execution_count": null,
   "metadata": {},
   "outputs": [],
   "source": []
  }
 ],
 "metadata": {
  "kernelspec": {
   "display_name": "Python 3",
   "language": "python",
   "name": "python3"
  },
  "language_info": {
   "codemirror_mode": {
    "name": "ipython",
    "version": 3
   },
   "file_extension": ".py",
   "mimetype": "text/x-python",
   "name": "python",
   "nbconvert_exporter": "python",
   "pygments_lexer": "ipython3",
   "version": "3.8.3"
  },
  "varInspector": {
   "cols": {
    "lenName": 16,
    "lenType": 16,
    "lenVar": 40
   },
   "kernels_config": {
    "python": {
     "delete_cmd_postfix": "",
     "delete_cmd_prefix": "del ",
     "library": "var_list.py",
     "varRefreshCmd": "print(var_dic_list())"
    },
    "r": {
     "delete_cmd_postfix": ") ",
     "delete_cmd_prefix": "rm(",
     "library": "var_list.r",
     "varRefreshCmd": "cat(var_dic_list()) "
    }
   },
   "types_to_exclude": [
    "module",
    "function",
    "builtin_function_or_method",
    "instance",
    "_Feature"
   ],
   "window_display": false
  }
 },
 "nbformat": 4,
 "nbformat_minor": 4
}
